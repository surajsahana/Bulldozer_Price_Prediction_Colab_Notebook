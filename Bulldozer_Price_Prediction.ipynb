{
  "nbformat": 4,
  "nbformat_minor": 0,
  "metadata": {
    "colab": {
      "name": "Bulldozer Price Prediction.ipynb",
      "provenance": [],
      "toc_visible": true
    },
    "kernelspec": {
      "name": "python3",
      "display_name": "Python 3"
    },
    "language_info": {
      "name": "python"
    }
  },
  "cells": [
    {
      "cell_type": "code",
      "metadata": {
        "id": "2hBUKfno6Eej"
      },
      "source": [
        "import pandas as pd\n",
        "import numpy as np\n",
        "import matplotlib.pyplot as plt\n",
        "import seaborn as sns\n",
        "import sklearn"
      ],
      "execution_count": null,
      "outputs": []
    },
    {
      "cell_type": "code",
      "metadata": {
        "id": "hqagC4PQ6RLG"
      },
      "source": [
        "# Importing data again but with date parsed\n",
        "df = pd.read_csv(\"/content/drive/MyDrive/Bulldozer Price Prediction/TrainAndValid.csv\",\n",
        "                low_memory = False,\n",
        "                parse_dates = [\"saledate\"])"
      ],
      "execution_count": null,
      "outputs": []
    },
    {
      "cell_type": "code",
      "metadata": {
        "colab": {
          "base_uri": "https://localhost:8080/",
          "height": 360
        },
        "id": "mX8wcGRI6YIL",
        "outputId": "7ace12e5-2870-40ac-c0bc-df64df74340b"
      },
      "source": [
        "df.head()"
      ],
      "execution_count": null,
      "outputs": [
        {
          "output_type": "execute_result",
          "data": {
            "text/html": [
              "<div>\n",
              "<style scoped>\n",
              "    .dataframe tbody tr th:only-of-type {\n",
              "        vertical-align: middle;\n",
              "    }\n",
              "\n",
              "    .dataframe tbody tr th {\n",
              "        vertical-align: top;\n",
              "    }\n",
              "\n",
              "    .dataframe thead th {\n",
              "        text-align: right;\n",
              "    }\n",
              "</style>\n",
              "<table border=\"1\" class=\"dataframe\">\n",
              "  <thead>\n",
              "    <tr style=\"text-align: right;\">\n",
              "      <th></th>\n",
              "      <th>SalesID</th>\n",
              "      <th>SalePrice</th>\n",
              "      <th>MachineID</th>\n",
              "      <th>ModelID</th>\n",
              "      <th>datasource</th>\n",
              "      <th>auctioneerID</th>\n",
              "      <th>YearMade</th>\n",
              "      <th>MachineHoursCurrentMeter</th>\n",
              "      <th>UsageBand</th>\n",
              "      <th>saledate</th>\n",
              "      <th>fiModelDesc</th>\n",
              "      <th>fiBaseModel</th>\n",
              "      <th>fiSecondaryDesc</th>\n",
              "      <th>fiModelSeries</th>\n",
              "      <th>fiModelDescriptor</th>\n",
              "      <th>ProductSize</th>\n",
              "      <th>fiProductClassDesc</th>\n",
              "      <th>state</th>\n",
              "      <th>ProductGroup</th>\n",
              "      <th>ProductGroupDesc</th>\n",
              "      <th>Drive_System</th>\n",
              "      <th>Enclosure</th>\n",
              "      <th>Forks</th>\n",
              "      <th>Pad_Type</th>\n",
              "      <th>Ride_Control</th>\n",
              "      <th>Stick</th>\n",
              "      <th>Transmission</th>\n",
              "      <th>Turbocharged</th>\n",
              "      <th>Blade_Extension</th>\n",
              "      <th>Blade_Width</th>\n",
              "      <th>Enclosure_Type</th>\n",
              "      <th>Engine_Horsepower</th>\n",
              "      <th>Hydraulics</th>\n",
              "      <th>Pushblock</th>\n",
              "      <th>Ripper</th>\n",
              "      <th>Scarifier</th>\n",
              "      <th>Tip_Control</th>\n",
              "      <th>Tire_Size</th>\n",
              "      <th>Coupler</th>\n",
              "      <th>Coupler_System</th>\n",
              "      <th>Grouser_Tracks</th>\n",
              "      <th>Hydraulics_Flow</th>\n",
              "      <th>Track_Type</th>\n",
              "      <th>Undercarriage_Pad_Width</th>\n",
              "      <th>Stick_Length</th>\n",
              "      <th>Thumb</th>\n",
              "      <th>Pattern_Changer</th>\n",
              "      <th>Grouser_Type</th>\n",
              "      <th>Backhoe_Mounting</th>\n",
              "      <th>Blade_Type</th>\n",
              "      <th>Travel_Controls</th>\n",
              "      <th>Differential_Type</th>\n",
              "      <th>Steering_Controls</th>\n",
              "    </tr>\n",
              "  </thead>\n",
              "  <tbody>\n",
              "    <tr>\n",
              "      <th>0</th>\n",
              "      <td>1139246</td>\n",
              "      <td>66000.0</td>\n",
              "      <td>999089</td>\n",
              "      <td>3157</td>\n",
              "      <td>121</td>\n",
              "      <td>3.0</td>\n",
              "      <td>2004</td>\n",
              "      <td>68.0</td>\n",
              "      <td>Low</td>\n",
              "      <td>2006-11-16</td>\n",
              "      <td>521D</td>\n",
              "      <td>521</td>\n",
              "      <td>D</td>\n",
              "      <td>NaN</td>\n",
              "      <td>NaN</td>\n",
              "      <td>NaN</td>\n",
              "      <td>Wheel Loader - 110.0 to 120.0 Horsepower</td>\n",
              "      <td>Alabama</td>\n",
              "      <td>WL</td>\n",
              "      <td>Wheel Loader</td>\n",
              "      <td>NaN</td>\n",
              "      <td>EROPS w AC</td>\n",
              "      <td>None or Unspecified</td>\n",
              "      <td>NaN</td>\n",
              "      <td>None or Unspecified</td>\n",
              "      <td>NaN</td>\n",
              "      <td>NaN</td>\n",
              "      <td>NaN</td>\n",
              "      <td>NaN</td>\n",
              "      <td>NaN</td>\n",
              "      <td>NaN</td>\n",
              "      <td>NaN</td>\n",
              "      <td>2 Valve</td>\n",
              "      <td>NaN</td>\n",
              "      <td>NaN</td>\n",
              "      <td>NaN</td>\n",
              "      <td>NaN</td>\n",
              "      <td>None or Unspecified</td>\n",
              "      <td>None or Unspecified</td>\n",
              "      <td>NaN</td>\n",
              "      <td>NaN</td>\n",
              "      <td>NaN</td>\n",
              "      <td>NaN</td>\n",
              "      <td>NaN</td>\n",
              "      <td>NaN</td>\n",
              "      <td>NaN</td>\n",
              "      <td>NaN</td>\n",
              "      <td>NaN</td>\n",
              "      <td>NaN</td>\n",
              "      <td>NaN</td>\n",
              "      <td>NaN</td>\n",
              "      <td>Standard</td>\n",
              "      <td>Conventional</td>\n",
              "    </tr>\n",
              "    <tr>\n",
              "      <th>1</th>\n",
              "      <td>1139248</td>\n",
              "      <td>57000.0</td>\n",
              "      <td>117657</td>\n",
              "      <td>77</td>\n",
              "      <td>121</td>\n",
              "      <td>3.0</td>\n",
              "      <td>1996</td>\n",
              "      <td>4640.0</td>\n",
              "      <td>Low</td>\n",
              "      <td>2004-03-26</td>\n",
              "      <td>950FII</td>\n",
              "      <td>950</td>\n",
              "      <td>F</td>\n",
              "      <td>II</td>\n",
              "      <td>NaN</td>\n",
              "      <td>Medium</td>\n",
              "      <td>Wheel Loader - 150.0 to 175.0 Horsepower</td>\n",
              "      <td>North Carolina</td>\n",
              "      <td>WL</td>\n",
              "      <td>Wheel Loader</td>\n",
              "      <td>NaN</td>\n",
              "      <td>EROPS w AC</td>\n",
              "      <td>None or Unspecified</td>\n",
              "      <td>NaN</td>\n",
              "      <td>None or Unspecified</td>\n",
              "      <td>NaN</td>\n",
              "      <td>NaN</td>\n",
              "      <td>NaN</td>\n",
              "      <td>NaN</td>\n",
              "      <td>NaN</td>\n",
              "      <td>NaN</td>\n",
              "      <td>NaN</td>\n",
              "      <td>2 Valve</td>\n",
              "      <td>NaN</td>\n",
              "      <td>NaN</td>\n",
              "      <td>NaN</td>\n",
              "      <td>NaN</td>\n",
              "      <td>23.5</td>\n",
              "      <td>None or Unspecified</td>\n",
              "      <td>NaN</td>\n",
              "      <td>NaN</td>\n",
              "      <td>NaN</td>\n",
              "      <td>NaN</td>\n",
              "      <td>NaN</td>\n",
              "      <td>NaN</td>\n",
              "      <td>NaN</td>\n",
              "      <td>NaN</td>\n",
              "      <td>NaN</td>\n",
              "      <td>NaN</td>\n",
              "      <td>NaN</td>\n",
              "      <td>NaN</td>\n",
              "      <td>Standard</td>\n",
              "      <td>Conventional</td>\n",
              "    </tr>\n",
              "    <tr>\n",
              "      <th>2</th>\n",
              "      <td>1139249</td>\n",
              "      <td>10000.0</td>\n",
              "      <td>434808</td>\n",
              "      <td>7009</td>\n",
              "      <td>121</td>\n",
              "      <td>3.0</td>\n",
              "      <td>2001</td>\n",
              "      <td>2838.0</td>\n",
              "      <td>High</td>\n",
              "      <td>2004-02-26</td>\n",
              "      <td>226</td>\n",
              "      <td>226</td>\n",
              "      <td>NaN</td>\n",
              "      <td>NaN</td>\n",
              "      <td>NaN</td>\n",
              "      <td>NaN</td>\n",
              "      <td>Skid Steer Loader - 1351.0 to 1601.0 Lb Operat...</td>\n",
              "      <td>New York</td>\n",
              "      <td>SSL</td>\n",
              "      <td>Skid Steer Loaders</td>\n",
              "      <td>NaN</td>\n",
              "      <td>OROPS</td>\n",
              "      <td>None or Unspecified</td>\n",
              "      <td>NaN</td>\n",
              "      <td>NaN</td>\n",
              "      <td>NaN</td>\n",
              "      <td>NaN</td>\n",
              "      <td>NaN</td>\n",
              "      <td>NaN</td>\n",
              "      <td>NaN</td>\n",
              "      <td>NaN</td>\n",
              "      <td>NaN</td>\n",
              "      <td>Auxiliary</td>\n",
              "      <td>NaN</td>\n",
              "      <td>NaN</td>\n",
              "      <td>NaN</td>\n",
              "      <td>NaN</td>\n",
              "      <td>NaN</td>\n",
              "      <td>None or Unspecified</td>\n",
              "      <td>None or Unspecified</td>\n",
              "      <td>None or Unspecified</td>\n",
              "      <td>Standard</td>\n",
              "      <td>NaN</td>\n",
              "      <td>NaN</td>\n",
              "      <td>NaN</td>\n",
              "      <td>NaN</td>\n",
              "      <td>NaN</td>\n",
              "      <td>NaN</td>\n",
              "      <td>NaN</td>\n",
              "      <td>NaN</td>\n",
              "      <td>NaN</td>\n",
              "      <td>NaN</td>\n",
              "      <td>NaN</td>\n",
              "    </tr>\n",
              "    <tr>\n",
              "      <th>3</th>\n",
              "      <td>1139251</td>\n",
              "      <td>38500.0</td>\n",
              "      <td>1026470</td>\n",
              "      <td>332</td>\n",
              "      <td>121</td>\n",
              "      <td>3.0</td>\n",
              "      <td>2001</td>\n",
              "      <td>3486.0</td>\n",
              "      <td>High</td>\n",
              "      <td>2011-05-19</td>\n",
              "      <td>PC120-6E</td>\n",
              "      <td>PC120</td>\n",
              "      <td>NaN</td>\n",
              "      <td>-6E</td>\n",
              "      <td>NaN</td>\n",
              "      <td>Small</td>\n",
              "      <td>Hydraulic Excavator, Track - 12.0 to 14.0 Metr...</td>\n",
              "      <td>Texas</td>\n",
              "      <td>TEX</td>\n",
              "      <td>Track Excavators</td>\n",
              "      <td>NaN</td>\n",
              "      <td>EROPS w AC</td>\n",
              "      <td>NaN</td>\n",
              "      <td>NaN</td>\n",
              "      <td>NaN</td>\n",
              "      <td>NaN</td>\n",
              "      <td>NaN</td>\n",
              "      <td>NaN</td>\n",
              "      <td>NaN</td>\n",
              "      <td>NaN</td>\n",
              "      <td>NaN</td>\n",
              "      <td>NaN</td>\n",
              "      <td>2 Valve</td>\n",
              "      <td>NaN</td>\n",
              "      <td>NaN</td>\n",
              "      <td>NaN</td>\n",
              "      <td>NaN</td>\n",
              "      <td>NaN</td>\n",
              "      <td>None or Unspecified</td>\n",
              "      <td>NaN</td>\n",
              "      <td>NaN</td>\n",
              "      <td>NaN</td>\n",
              "      <td>NaN</td>\n",
              "      <td>NaN</td>\n",
              "      <td>NaN</td>\n",
              "      <td>NaN</td>\n",
              "      <td>NaN</td>\n",
              "      <td>NaN</td>\n",
              "      <td>NaN</td>\n",
              "      <td>NaN</td>\n",
              "      <td>NaN</td>\n",
              "      <td>NaN</td>\n",
              "      <td>NaN</td>\n",
              "    </tr>\n",
              "    <tr>\n",
              "      <th>4</th>\n",
              "      <td>1139253</td>\n",
              "      <td>11000.0</td>\n",
              "      <td>1057373</td>\n",
              "      <td>17311</td>\n",
              "      <td>121</td>\n",
              "      <td>3.0</td>\n",
              "      <td>2007</td>\n",
              "      <td>722.0</td>\n",
              "      <td>Medium</td>\n",
              "      <td>2009-07-23</td>\n",
              "      <td>S175</td>\n",
              "      <td>S175</td>\n",
              "      <td>NaN</td>\n",
              "      <td>NaN</td>\n",
              "      <td>NaN</td>\n",
              "      <td>NaN</td>\n",
              "      <td>Skid Steer Loader - 1601.0 to 1751.0 Lb Operat...</td>\n",
              "      <td>New York</td>\n",
              "      <td>SSL</td>\n",
              "      <td>Skid Steer Loaders</td>\n",
              "      <td>NaN</td>\n",
              "      <td>EROPS</td>\n",
              "      <td>None or Unspecified</td>\n",
              "      <td>NaN</td>\n",
              "      <td>NaN</td>\n",
              "      <td>NaN</td>\n",
              "      <td>NaN</td>\n",
              "      <td>NaN</td>\n",
              "      <td>NaN</td>\n",
              "      <td>NaN</td>\n",
              "      <td>NaN</td>\n",
              "      <td>NaN</td>\n",
              "      <td>Auxiliary</td>\n",
              "      <td>NaN</td>\n",
              "      <td>NaN</td>\n",
              "      <td>NaN</td>\n",
              "      <td>NaN</td>\n",
              "      <td>NaN</td>\n",
              "      <td>None or Unspecified</td>\n",
              "      <td>None or Unspecified</td>\n",
              "      <td>None or Unspecified</td>\n",
              "      <td>Standard</td>\n",
              "      <td>NaN</td>\n",
              "      <td>NaN</td>\n",
              "      <td>NaN</td>\n",
              "      <td>NaN</td>\n",
              "      <td>NaN</td>\n",
              "      <td>NaN</td>\n",
              "      <td>NaN</td>\n",
              "      <td>NaN</td>\n",
              "      <td>NaN</td>\n",
              "      <td>NaN</td>\n",
              "      <td>NaN</td>\n",
              "    </tr>\n",
              "  </tbody>\n",
              "</table>\n",
              "</div>"
            ],
            "text/plain": [
              "   SalesID  SalePrice  ...  Differential_Type  Steering_Controls\n",
              "0  1139246    66000.0  ...           Standard       Conventional\n",
              "1  1139248    57000.0  ...           Standard       Conventional\n",
              "2  1139249    10000.0  ...                NaN                NaN\n",
              "3  1139251    38500.0  ...                NaN                NaN\n",
              "4  1139253    11000.0  ...                NaN                NaN\n",
              "\n",
              "[5 rows x 53 columns]"
            ]
          },
          "metadata": {
            "tags": []
          },
          "execution_count": 3
        }
      ]
    },
    {
      "cell_type": "code",
      "metadata": {
        "colab": {
          "base_uri": "https://localhost:8080/"
        },
        "id": "ERm5ZFVI6iag",
        "outputId": "72d813c0-3a84-40f0-a2d8-dd0466611e82"
      },
      "source": [
        "df.info()"
      ],
      "execution_count": null,
      "outputs": [
        {
          "output_type": "stream",
          "text": [
            "<class 'pandas.core.frame.DataFrame'>\n",
            "RangeIndex: 412698 entries, 0 to 412697\n",
            "Data columns (total 53 columns):\n",
            " #   Column                    Non-Null Count   Dtype         \n",
            "---  ------                    --------------   -----         \n",
            " 0   SalesID                   412698 non-null  int64         \n",
            " 1   SalePrice                 412698 non-null  float64       \n",
            " 2   MachineID                 412698 non-null  int64         \n",
            " 3   ModelID                   412698 non-null  int64         \n",
            " 4   datasource                412698 non-null  int64         \n",
            " 5   auctioneerID              392562 non-null  float64       \n",
            " 6   YearMade                  412698 non-null  int64         \n",
            " 7   MachineHoursCurrentMeter  147504 non-null  float64       \n",
            " 8   UsageBand                 73670 non-null   object        \n",
            " 9   saledate                  412698 non-null  datetime64[ns]\n",
            " 10  fiModelDesc               412698 non-null  object        \n",
            " 11  fiBaseModel               412698 non-null  object        \n",
            " 12  fiSecondaryDesc           271971 non-null  object        \n",
            " 13  fiModelSeries             58667 non-null   object        \n",
            " 14  fiModelDescriptor         74816 non-null   object        \n",
            " 15  ProductSize               196093 non-null  object        \n",
            " 16  fiProductClassDesc        412698 non-null  object        \n",
            " 17  state                     412698 non-null  object        \n",
            " 18  ProductGroup              412698 non-null  object        \n",
            " 19  ProductGroupDesc          412698 non-null  object        \n",
            " 20  Drive_System              107087 non-null  object        \n",
            " 21  Enclosure                 412364 non-null  object        \n",
            " 22  Forks                     197715 non-null  object        \n",
            " 23  Pad_Type                  81096 non-null   object        \n",
            " 24  Ride_Control              152728 non-null  object        \n",
            " 25  Stick                     81096 non-null   object        \n",
            " 26  Transmission              188007 non-null  object        \n",
            " 27  Turbocharged              81096 non-null   object        \n",
            " 28  Blade_Extension           25983 non-null   object        \n",
            " 29  Blade_Width               25983 non-null   object        \n",
            " 30  Enclosure_Type            25983 non-null   object        \n",
            " 31  Engine_Horsepower         25983 non-null   object        \n",
            " 32  Hydraulics                330133 non-null  object        \n",
            " 33  Pushblock                 25983 non-null   object        \n",
            " 34  Ripper                    106945 non-null  object        \n",
            " 35  Scarifier                 25994 non-null   object        \n",
            " 36  Tip_Control               25983 non-null   object        \n",
            " 37  Tire_Size                 97638 non-null   object        \n",
            " 38  Coupler                   220679 non-null  object        \n",
            " 39  Coupler_System            44974 non-null   object        \n",
            " 40  Grouser_Tracks            44875 non-null   object        \n",
            " 41  Hydraulics_Flow           44875 non-null   object        \n",
            " 42  Track_Type                102193 non-null  object        \n",
            " 43  Undercarriage_Pad_Width   102916 non-null  object        \n",
            " 44  Stick_Length              102261 non-null  object        \n",
            " 45  Thumb                     102332 non-null  object        \n",
            " 46  Pattern_Changer           102261 non-null  object        \n",
            " 47  Grouser_Type              102193 non-null  object        \n",
            " 48  Backhoe_Mounting          80712 non-null   object        \n",
            " 49  Blade_Type                81875 non-null   object        \n",
            " 50  Travel_Controls           81877 non-null   object        \n",
            " 51  Differential_Type         71564 non-null   object        \n",
            " 52  Steering_Controls         71522 non-null   object        \n",
            "dtypes: datetime64[ns](1), float64(3), int64(5), object(44)\n",
            "memory usage: 166.9+ MB\n"
          ],
          "name": "stdout"
        }
      ]
    },
    {
      "cell_type": "code",
      "metadata": {
        "colab": {
          "base_uri": "https://localhost:8080/"
        },
        "id": "p_A2Ohet6l9F",
        "outputId": "306622bc-684b-4fda-a21b-05ebccacdad3"
      },
      "source": [
        "df.isnull().sum()"
      ],
      "execution_count": null,
      "outputs": [
        {
          "output_type": "execute_result",
          "data": {
            "text/plain": [
              "SalesID                          0\n",
              "SalePrice                        0\n",
              "MachineID                        0\n",
              "ModelID                          0\n",
              "datasource                       0\n",
              "auctioneerID                 20136\n",
              "YearMade                         0\n",
              "MachineHoursCurrentMeter    265194\n",
              "UsageBand                   339028\n",
              "saledate                         0\n",
              "fiModelDesc                      0\n",
              "fiBaseModel                      0\n",
              "fiSecondaryDesc             140727\n",
              "fiModelSeries               354031\n",
              "fiModelDescriptor           337882\n",
              "ProductSize                 216605\n",
              "fiProductClassDesc               0\n",
              "state                            0\n",
              "ProductGroup                     0\n",
              "ProductGroupDesc                 0\n",
              "Drive_System                305611\n",
              "Enclosure                      334\n",
              "Forks                       214983\n",
              "Pad_Type                    331602\n",
              "Ride_Control                259970\n",
              "Stick                       331602\n",
              "Transmission                224691\n",
              "Turbocharged                331602\n",
              "Blade_Extension             386715\n",
              "Blade_Width                 386715\n",
              "Enclosure_Type              386715\n",
              "Engine_Horsepower           386715\n",
              "Hydraulics                   82565\n",
              "Pushblock                   386715\n",
              "Ripper                      305753\n",
              "Scarifier                   386704\n",
              "Tip_Control                 386715\n",
              "Tire_Size                   315060\n",
              "Coupler                     192019\n",
              "Coupler_System              367724\n",
              "Grouser_Tracks              367823\n",
              "Hydraulics_Flow             367823\n",
              "Track_Type                  310505\n",
              "Undercarriage_Pad_Width     309782\n",
              "Stick_Length                310437\n",
              "Thumb                       310366\n",
              "Pattern_Changer             310437\n",
              "Grouser_Type                310505\n",
              "Backhoe_Mounting            331986\n",
              "Blade_Type                  330823\n",
              "Travel_Controls             330821\n",
              "Differential_Type           341134\n",
              "Steering_Controls           341176\n",
              "dtype: int64"
            ]
          },
          "metadata": {
            "tags": []
          },
          "execution_count": 5
        }
      ]
    },
    {
      "cell_type": "code",
      "metadata": {
        "colab": {
          "base_uri": "https://localhost:8080/",
          "height": 317
        },
        "id": "yP_Fws_-6yi9",
        "outputId": "ffed28eb-1d8e-4ef7-a6f3-5a9bf0da7d66"
      },
      "source": [
        "df.describe()"
      ],
      "execution_count": null,
      "outputs": [
        {
          "output_type": "execute_result",
          "data": {
            "text/html": [
              "<div>\n",
              "<style scoped>\n",
              "    .dataframe tbody tr th:only-of-type {\n",
              "        vertical-align: middle;\n",
              "    }\n",
              "\n",
              "    .dataframe tbody tr th {\n",
              "        vertical-align: top;\n",
              "    }\n",
              "\n",
              "    .dataframe thead th {\n",
              "        text-align: right;\n",
              "    }\n",
              "</style>\n",
              "<table border=\"1\" class=\"dataframe\">\n",
              "  <thead>\n",
              "    <tr style=\"text-align: right;\">\n",
              "      <th></th>\n",
              "      <th>SalesID</th>\n",
              "      <th>SalePrice</th>\n",
              "      <th>MachineID</th>\n",
              "      <th>ModelID</th>\n",
              "      <th>datasource</th>\n",
              "      <th>auctioneerID</th>\n",
              "      <th>YearMade</th>\n",
              "      <th>MachineHoursCurrentMeter</th>\n",
              "    </tr>\n",
              "  </thead>\n",
              "  <tbody>\n",
              "    <tr>\n",
              "      <th>count</th>\n",
              "      <td>4.126980e+05</td>\n",
              "      <td>412698.000000</td>\n",
              "      <td>4.126980e+05</td>\n",
              "      <td>412698.000000</td>\n",
              "      <td>412698.000000</td>\n",
              "      <td>392562.000000</td>\n",
              "      <td>412698.000000</td>\n",
              "      <td>1.475040e+05</td>\n",
              "    </tr>\n",
              "    <tr>\n",
              "      <th>mean</th>\n",
              "      <td>2.011161e+06</td>\n",
              "      <td>31215.181414</td>\n",
              "      <td>1.230061e+06</td>\n",
              "      <td>6947.201828</td>\n",
              "      <td>135.169361</td>\n",
              "      <td>6.585268</td>\n",
              "      <td>1899.049637</td>\n",
              "      <td>3.522988e+03</td>\n",
              "    </tr>\n",
              "    <tr>\n",
              "      <th>std</th>\n",
              "      <td>1.080068e+06</td>\n",
              "      <td>23141.743695</td>\n",
              "      <td>4.539533e+05</td>\n",
              "      <td>6280.824982</td>\n",
              "      <td>9.646749</td>\n",
              "      <td>17.158409</td>\n",
              "      <td>292.190243</td>\n",
              "      <td>2.716993e+04</td>\n",
              "    </tr>\n",
              "    <tr>\n",
              "      <th>min</th>\n",
              "      <td>1.139246e+06</td>\n",
              "      <td>4750.000000</td>\n",
              "      <td>0.000000e+00</td>\n",
              "      <td>28.000000</td>\n",
              "      <td>121.000000</td>\n",
              "      <td>0.000000</td>\n",
              "      <td>1000.000000</td>\n",
              "      <td>0.000000e+00</td>\n",
              "    </tr>\n",
              "    <tr>\n",
              "      <th>25%</th>\n",
              "      <td>1.421898e+06</td>\n",
              "      <td>14500.000000</td>\n",
              "      <td>1.088593e+06</td>\n",
              "      <td>3261.000000</td>\n",
              "      <td>132.000000</td>\n",
              "      <td>1.000000</td>\n",
              "      <td>1985.000000</td>\n",
              "      <td>0.000000e+00</td>\n",
              "    </tr>\n",
              "    <tr>\n",
              "      <th>50%</th>\n",
              "      <td>1.645852e+06</td>\n",
              "      <td>24000.000000</td>\n",
              "      <td>1.284397e+06</td>\n",
              "      <td>4605.000000</td>\n",
              "      <td>132.000000</td>\n",
              "      <td>2.000000</td>\n",
              "      <td>1995.000000</td>\n",
              "      <td>0.000000e+00</td>\n",
              "    </tr>\n",
              "    <tr>\n",
              "      <th>75%</th>\n",
              "      <td>2.261012e+06</td>\n",
              "      <td>40000.000000</td>\n",
              "      <td>1.478079e+06</td>\n",
              "      <td>8899.000000</td>\n",
              "      <td>136.000000</td>\n",
              "      <td>4.000000</td>\n",
              "      <td>2001.000000</td>\n",
              "      <td>3.209000e+03</td>\n",
              "    </tr>\n",
              "    <tr>\n",
              "      <th>max</th>\n",
              "      <td>6.333349e+06</td>\n",
              "      <td>142000.000000</td>\n",
              "      <td>2.486330e+06</td>\n",
              "      <td>37198.000000</td>\n",
              "      <td>173.000000</td>\n",
              "      <td>99.000000</td>\n",
              "      <td>2014.000000</td>\n",
              "      <td>2.483300e+06</td>\n",
              "    </tr>\n",
              "  </tbody>\n",
              "</table>\n",
              "</div>"
            ],
            "text/plain": [
              "            SalesID      SalePrice  ...       YearMade  MachineHoursCurrentMeter\n",
              "count  4.126980e+05  412698.000000  ...  412698.000000              1.475040e+05\n",
              "mean   2.011161e+06   31215.181414  ...    1899.049637              3.522988e+03\n",
              "std    1.080068e+06   23141.743695  ...     292.190243              2.716993e+04\n",
              "min    1.139246e+06    4750.000000  ...    1000.000000              0.000000e+00\n",
              "25%    1.421898e+06   14500.000000  ...    1985.000000              0.000000e+00\n",
              "50%    1.645852e+06   24000.000000  ...    1995.000000              0.000000e+00\n",
              "75%    2.261012e+06   40000.000000  ...    2001.000000              3.209000e+03\n",
              "max    6.333349e+06  142000.000000  ...    2014.000000              2.483300e+06\n",
              "\n",
              "[8 rows x 8 columns]"
            ]
          },
          "metadata": {
            "tags": []
          },
          "execution_count": 6
        }
      ]
    },
    {
      "cell_type": "code",
      "metadata": {
        "colab": {
          "base_uri": "https://localhost:8080/",
          "height": 282
        },
        "id": "2RnCSyR67RHe",
        "outputId": "ca9f7446-e768-4880-8ab3-9d78848112df"
      },
      "source": [
        "df[\"SalePrice\"].plot.hist()"
      ],
      "execution_count": null,
      "outputs": [
        {
          "output_type": "execute_result",
          "data": {
            "text/plain": [
              "<matplotlib.axes._subplots.AxesSubplot at 0x7f4cebce4e50>"
            ]
          },
          "metadata": {
            "tags": []
          },
          "execution_count": 8
        },
        {
          "output_type": "display_data",
          "data": {
            "image/png": "[encoded data removed]",
            "text/plain": [
              "<Figure size 432x288 with 1 Axes>"
            ]
          },
          "metadata": {
            "tags": [],
            "needs_background": "light"
          }
        }
      ]
    },
    {
      "cell_type": "code",
      "metadata": {
        "id": "EFC6u3BN7c0g",
        "colab": {
          "base_uri": "https://localhost:8080/",
          "height": 295
        },
        "outputId": "78ef67bc-3e37-441a-8fb5-95b95235ec1a"
      },
      "source": [
        "fig, ax = plt.subplots()\n",
        "ax.scatter(df.saledate[:1000], df.SalePrice[:1000]);\n",
        "plt.xlabel(\"Sale Year\");\n",
        "plt.ylabel(\"Sale Price\");\n",
        "plt.title(\"Sale Date vs Sale Price\");"
      ],
      "execution_count": null,
      "outputs": [
        {
          "output_type": "display_data",
          "data": {
            "image/png": "[encoded data removed]",
            "text/plain": [
              "<Figure size 432x288 with 1 Axes>"
            ]
          },
          "metadata": {
            "tags": [],
            "needs_background": "light"
          }
        }
      ]
    },
    {
      "cell_type": "code",
      "metadata": {
        "colab": {
          "base_uri": "https://localhost:8080/"
        },
        "id": "-rN6AcaD-Hil",
        "outputId": "ce8523be-4650-4935-dd5f-7f426f4c1218"
      },
      "source": [
        "# Sort data by saledate\n",
        "df.sort_values(by = [\"saledate\"], inplace= True, ascending = True)\n",
        "df.saledate.head(20)"
      ],
      "execution_count": null,
      "outputs": [
        {
          "output_type": "execute_result",
          "data": {
            "text/plain": [
              "205615   1989-01-17\n",
              "233186   1989-01-31\n",
              "142491   1989-01-31\n",
              "115536   1989-01-31\n",
              "92301    1989-01-31\n",
              "115892   1989-01-31\n",
              "134080   1989-01-31\n",
              "92294    1989-01-31\n",
              "31494    1989-01-31\n",
              "140922   1989-01-31\n",
              "66337    1989-01-31\n",
              "92531    1989-01-31\n",
              "82122    1989-01-31\n",
              "92256    1989-01-31\n",
              "145670   1989-01-31\n",
              "92780    1989-01-31\n",
              "238373   1989-01-31\n",
              "127132   1989-01-31\n",
              "115102   1989-01-31\n",
              "32317    1989-01-31\n",
              "Name: saledate, dtype: datetime64[ns]"
            ]
          },
          "metadata": {
            "tags": []
          },
          "execution_count": 12
        }
      ]
    },
    {
      "cell_type": "code",
      "metadata": {
        "id": "JJQ4HzAT-Uma"
      },
      "source": [
        "# Adding datetime parameters for 'saledate' column\n",
        "df['saleYear'] = df.saledate.dt.year\n",
        "df['saleMonth'] = df.saledate.dt.month\n",
        "df['saleDay'] = df.saledate.dt.day\n",
        "df['saleDayOfWeek'] = df.saledate.dt.dayofweek\n",
        "df['saleDayOfYear'] = df.saledate.dt.dayofyear"
      ],
      "execution_count": null,
      "outputs": []
    },
    {
      "cell_type": "code",
      "metadata": {
        "id": "46YtUY9N-3sw"
      },
      "source": [
        "# Dropping the saledate column\n",
        "df.drop(\"saledate\", axis = 1, inplace = True)"
      ],
      "execution_count": null,
      "outputs": []
    },
    {
      "cell_type": "code",
      "metadata": {
        "colab": {
          "base_uri": "https://localhost:8080/",
          "height": 1000
        },
        "id": "6vgwK5HM_Cxz",
        "outputId": "441fd8f7-1674-4341-a0bf-d3d8136ae4de"
      },
      "source": [
        "df.head().T"
      ],
      "execution_count": null,
      "outputs": [
        {
          "output_type": "execute_result",
          "data": {
            "text/html": [
              "<div>\n",
              "<style scoped>\n",
              "    .dataframe tbody tr th:only-of-type {\n",
              "        vertical-align: middle;\n",
              "    }\n",
              "\n",
              "    .dataframe tbody tr th {\n",
              "        vertical-align: top;\n",
              "    }\n",
              "\n",
              "    .dataframe thead th {\n",
              "        text-align: right;\n",
              "    }\n",
              "</style>\n",
              "<table border=\"1\" class=\"dataframe\">\n",
              "  <thead>\n",
              "    <tr style=\"text-align: right;\">\n",
              "      <th></th>\n",
              "      <th>205615</th>\n",
              "      <th>233186</th>\n",
              "      <th>142491</th>\n",
              "      <th>115536</th>\n",
              "      <th>92301</th>\n",
              "    </tr>\n",
              "  </thead>\n",
              "  <tbody>\n",
              "    <tr>\n",
              "      <th>SalesID</th>\n",
              "      <td>1646770</td>\n",
              "      <td>1728883</td>\n",
              "      <td>1508502</td>\n",
              "      <td>1452578</td>\n",
              "      <td>1403418</td>\n",
              "    </tr>\n",
              "    <tr>\n",
              "      <th>SalePrice</th>\n",
              "      <td>9500</td>\n",
              "      <td>30000</td>\n",
              "      <td>21000</td>\n",
              "      <td>33000</td>\n",
              "      <td>24000</td>\n",
              "    </tr>\n",
              "    <tr>\n",
              "      <th>MachineID</th>\n",
              "      <td>1126363</td>\n",
              "      <td>1523610</td>\n",
              "      <td>1153157</td>\n",
              "      <td>1544443</td>\n",
              "      <td>1390168</td>\n",
              "    </tr>\n",
              "    <tr>\n",
              "      <th>ModelID</th>\n",
              "      <td>8434</td>\n",
              "      <td>9105</td>\n",
              "      <td>4138</td>\n",
              "      <td>3854</td>\n",
              "      <td>7110</td>\n",
              "    </tr>\n",
              "    <tr>\n",
              "      <th>datasource</th>\n",
              "      <td>132</td>\n",
              "      <td>132</td>\n",
              "      <td>132</td>\n",
              "      <td>132</td>\n",
              "      <td>132</td>\n",
              "    </tr>\n",
              "    <tr>\n",
              "      <th>auctioneerID</th>\n",
              "      <td>18</td>\n",
              "      <td>99</td>\n",
              "      <td>99</td>\n",
              "      <td>99</td>\n",
              "      <td>99</td>\n",
              "    </tr>\n",
              "    <tr>\n",
              "      <th>YearMade</th>\n",
              "      <td>1974</td>\n",
              "      <td>1986</td>\n",
              "      <td>1972</td>\n",
              "      <td>1974</td>\n",
              "      <td>1986</td>\n",
              "    </tr>\n",
              "    <tr>\n",
              "      <th>MachineHoursCurrentMeter</th>\n",
              "      <td>NaN</td>\n",
              "      <td>NaN</td>\n",
              "      <td>NaN</td>\n",
              "      <td>NaN</td>\n",
              "      <td>NaN</td>\n",
              "    </tr>\n",
              "    <tr>\n",
              "      <th>UsageBand</th>\n",
              "      <td>NaN</td>\n",
              "      <td>NaN</td>\n",
              "      <td>NaN</td>\n",
              "      <td>NaN</td>\n",
              "      <td>NaN</td>\n",
              "    </tr>\n",
              "    <tr>\n",
              "      <th>fiModelDesc</th>\n",
              "      <td>TD20</td>\n",
              "      <td>WA150</td>\n",
              "      <td>D7F</td>\n",
              "      <td>966C</td>\n",
              "      <td>416</td>\n",
              "    </tr>\n",
              "    <tr>\n",
              "      <th>fiBaseModel</th>\n",
              "      <td>TD20</td>\n",
              "      <td>WA150</td>\n",
              "      <td>D7</td>\n",
              "      <td>966</td>\n",
              "      <td>416</td>\n",
              "    </tr>\n",
              "    <tr>\n",
              "      <th>fiSecondaryDesc</th>\n",
              "      <td>NaN</td>\n",
              "      <td>NaN</td>\n",
              "      <td>F</td>\n",
              "      <td>C</td>\n",
              "      <td>NaN</td>\n",
              "    </tr>\n",
              "    <tr>\n",
              "      <th>fiModelSeries</th>\n",
              "      <td>NaN</td>\n",
              "      <td>NaN</td>\n",
              "      <td>NaN</td>\n",
              "      <td>NaN</td>\n",
              "      <td>NaN</td>\n",
              "    </tr>\n",
              "    <tr>\n",
              "      <th>fiModelDescriptor</th>\n",
              "      <td>NaN</td>\n",
              "      <td>NaN</td>\n",
              "      <td>NaN</td>\n",
              "      <td>NaN</td>\n",
              "      <td>NaN</td>\n",
              "    </tr>\n",
              "    <tr>\n",
              "      <th>ProductSize</th>\n",
              "      <td>Medium</td>\n",
              "      <td>NaN</td>\n",
              "      <td>Large</td>\n",
              "      <td>Medium</td>\n",
              "      <td>NaN</td>\n",
              "    </tr>\n",
              "    <tr>\n",
              "      <th>fiProductClassDesc</th>\n",
              "      <td>Track Type Tractor, Dozer - 105.0 to 130.0 Hor...</td>\n",
              "      <td>Wheel Loader - 90.0 to 100.0 Horsepower</td>\n",
              "      <td>Track Type Tractor, Dozer - 190.0 to 260.0 Hor...</td>\n",
              "      <td>Wheel Loader - 150.0 to 175.0 Horsepower</td>\n",
              "      <td>Backhoe Loader - 14.0 to 15.0 Ft Standard Digg...</td>\n",
              "    </tr>\n",
              "    <tr>\n",
              "      <th>state</th>\n",
              "      <td>Texas</td>\n",
              "      <td>Florida</td>\n",
              "      <td>Florida</td>\n",
              "      <td>Florida</td>\n",
              "      <td>Florida</td>\n",
              "    </tr>\n",
              "    <tr>\n",
              "      <th>ProductGroup</th>\n",
              "      <td>TTT</td>\n",
              "      <td>WL</td>\n",
              "      <td>TTT</td>\n",
              "      <td>WL</td>\n",
              "      <td>BL</td>\n",
              "    </tr>\n",
              "    <tr>\n",
              "      <th>ProductGroupDesc</th>\n",
              "      <td>Track Type Tractors</td>\n",
              "      <td>Wheel Loader</td>\n",
              "      <td>Track Type Tractors</td>\n",
              "      <td>Wheel Loader</td>\n",
              "      <td>Backhoe Loaders</td>\n",
              "    </tr>\n",
              "    <tr>\n",
              "      <th>Drive_System</th>\n",
              "      <td>NaN</td>\n",
              "      <td>NaN</td>\n",
              "      <td>NaN</td>\n",
              "      <td>NaN</td>\n",
              "      <td>Two Wheel Drive</td>\n",
              "    </tr>\n",
              "    <tr>\n",
              "      <th>Enclosure</th>\n",
              "      <td>OROPS</td>\n",
              "      <td>EROPS</td>\n",
              "      <td>OROPS</td>\n",
              "      <td>EROPS</td>\n",
              "      <td>EROPS</td>\n",
              "    </tr>\n",
              "    <tr>\n",
              "      <th>Forks</th>\n",
              "      <td>NaN</td>\n",
              "      <td>NaN</td>\n",
              "      <td>NaN</td>\n",
              "      <td>None or Unspecified</td>\n",
              "      <td>None or Unspecified</td>\n",
              "    </tr>\n",
              "    <tr>\n",
              "      <th>Pad_Type</th>\n",
              "      <td>NaN</td>\n",
              "      <td>NaN</td>\n",
              "      <td>NaN</td>\n",
              "      <td>NaN</td>\n",
              "      <td>None or Unspecified</td>\n",
              "    </tr>\n",
              "    <tr>\n",
              "      <th>Ride_Control</th>\n",
              "      <td>NaN</td>\n",
              "      <td>NaN</td>\n",
              "      <td>NaN</td>\n",
              "      <td>None or Unspecified</td>\n",
              "      <td>No</td>\n",
              "    </tr>\n",
              "    <tr>\n",
              "      <th>Stick</th>\n",
              "      <td>NaN</td>\n",
              "      <td>NaN</td>\n",
              "      <td>NaN</td>\n",
              "      <td>NaN</td>\n",
              "      <td>Extended</td>\n",
              "    </tr>\n",
              "    <tr>\n",
              "      <th>Transmission</th>\n",
              "      <td>Direct Drive</td>\n",
              "      <td>NaN</td>\n",
              "      <td>Standard</td>\n",
              "      <td>NaN</td>\n",
              "      <td>Standard</td>\n",
              "    </tr>\n",
              "    <tr>\n",
              "      <th>Turbocharged</th>\n",
              "      <td>NaN</td>\n",
              "      <td>NaN</td>\n",
              "      <td>NaN</td>\n",
              "      <td>NaN</td>\n",
              "      <td>None or Unspecified</td>\n",
              "    </tr>\n",
              "    <tr>\n",
              "      <th>Blade_Extension</th>\n",
              "      <td>NaN</td>\n",
              "      <td>NaN</td>\n",
              "      <td>NaN</td>\n",
              "      <td>NaN</td>\n",
              "      <td>NaN</td>\n",
              "    </tr>\n",
              "    <tr>\n",
              "      <th>Blade_Width</th>\n",
              "      <td>NaN</td>\n",
              "      <td>NaN</td>\n",
              "      <td>NaN</td>\n",
              "      <td>NaN</td>\n",
              "      <td>NaN</td>\n",
              "    </tr>\n",
              "    <tr>\n",
              "      <th>Enclosure_Type</th>\n",
              "      <td>NaN</td>\n",
              "      <td>NaN</td>\n",
              "      <td>NaN</td>\n",
              "      <td>NaN</td>\n",
              "      <td>NaN</td>\n",
              "    </tr>\n",
              "    <tr>\n",
              "      <th>Engine_Horsepower</th>\n",
              "      <td>NaN</td>\n",
              "      <td>NaN</td>\n",
              "      <td>NaN</td>\n",
              "      <td>NaN</td>\n",
              "      <td>NaN</td>\n",
              "    </tr>\n",
              "    <tr>\n",
              "      <th>Hydraulics</th>\n",
              "      <td>2 Valve</td>\n",
              "      <td>NaN</td>\n",
              "      <td>2 Valve</td>\n",
              "      <td>2 Valve</td>\n",
              "      <td>NaN</td>\n",
              "    </tr>\n",
              "    <tr>\n",
              "      <th>Pushblock</th>\n",
              "      <td>NaN</td>\n",
              "      <td>NaN</td>\n",
              "      <td>NaN</td>\n",
              "      <td>NaN</td>\n",
              "      <td>NaN</td>\n",
              "    </tr>\n",
              "    <tr>\n",
              "      <th>Ripper</th>\n",
              "      <td>None or Unspecified</td>\n",
              "      <td>NaN</td>\n",
              "      <td>None or Unspecified</td>\n",
              "      <td>NaN</td>\n",
              "      <td>NaN</td>\n",
              "    </tr>\n",
              "    <tr>\n",
              "      <th>Scarifier</th>\n",
              "      <td>NaN</td>\n",
              "      <td>NaN</td>\n",
              "      <td>NaN</td>\n",
              "      <td>NaN</td>\n",
              "      <td>NaN</td>\n",
              "    </tr>\n",
              "    <tr>\n",
              "      <th>Tip_Control</th>\n",
              "      <td>NaN</td>\n",
              "      <td>NaN</td>\n",
              "      <td>NaN</td>\n",
              "      <td>NaN</td>\n",
              "      <td>NaN</td>\n",
              "    </tr>\n",
              "    <tr>\n",
              "      <th>Tire_Size</th>\n",
              "      <td>NaN</td>\n",
              "      <td>26.5</td>\n",
              "      <td>NaN</td>\n",
              "      <td>23.5</td>\n",
              "      <td>NaN</td>\n",
              "    </tr>\n",
              "    <tr>\n",
              "      <th>Coupler</th>\n",
              "      <td>NaN</td>\n",
              "      <td>NaN</td>\n",
              "      <td>NaN</td>\n",
              "      <td>None or Unspecified</td>\n",
              "      <td>NaN</td>\n",
              "    </tr>\n",
              "    <tr>\n",
              "      <th>Coupler_System</th>\n",
              "      <td>NaN</td>\n",
              "      <td>NaN</td>\n",
              "      <td>NaN</td>\n",
              "      <td>NaN</td>\n",
              "      <td>NaN</td>\n",
              "    </tr>\n",
              "    <tr>\n",
              "      <th>Grouser_Tracks</th>\n",
              "      <td>NaN</td>\n",
              "      <td>NaN</td>\n",
              "      <td>NaN</td>\n",
              "      <td>NaN</td>\n",
              "      <td>NaN</td>\n",
              "    </tr>\n",
              "    <tr>\n",
              "      <th>Hydraulics_Flow</th>\n",
              "      <td>NaN</td>\n",
              "      <td>NaN</td>\n",
              "      <td>NaN</td>\n",
              "      <td>NaN</td>\n",
              "      <td>NaN</td>\n",
              "    </tr>\n",
              "    <tr>\n",
              "      <th>Track_Type</th>\n",
              "      <td>NaN</td>\n",
              "      <td>NaN</td>\n",
              "      <td>NaN</td>\n",
              "      <td>NaN</td>\n",
              "      <td>NaN</td>\n",
              "    </tr>\n",
              "    <tr>\n",
              "      <th>Undercarriage_Pad_Width</th>\n",
              "      <td>NaN</td>\n",
              "      <td>NaN</td>\n",
              "      <td>NaN</td>\n",
              "      <td>NaN</td>\n",
              "      <td>NaN</td>\n",
              "    </tr>\n",
              "    <tr>\n",
              "      <th>Stick_Length</th>\n",
              "      <td>NaN</td>\n",
              "      <td>NaN</td>\n",
              "      <td>NaN</td>\n",
              "      <td>NaN</td>\n",
              "      <td>NaN</td>\n",
              "    </tr>\n",
              "    <tr>\n",
              "      <th>Thumb</th>\n",
              "      <td>NaN</td>\n",
              "      <td>NaN</td>\n",
              "      <td>NaN</td>\n",
              "      <td>NaN</td>\n",
              "      <td>NaN</td>\n",
              "    </tr>\n",
              "    <tr>\n",
              "      <th>Pattern_Changer</th>\n",
              "      <td>NaN</td>\n",
              "      <td>NaN</td>\n",
              "      <td>NaN</td>\n",
              "      <td>NaN</td>\n",
              "      <td>NaN</td>\n",
              "    </tr>\n",
              "    <tr>\n",
              "      <th>Grouser_Type</th>\n",
              "      <td>NaN</td>\n",
              "      <td>NaN</td>\n",
              "      <td>NaN</td>\n",
              "      <td>NaN</td>\n",
              "      <td>NaN</td>\n",
              "    </tr>\n",
              "    <tr>\n",
              "      <th>Backhoe_Mounting</th>\n",
              "      <td>None or Unspecified</td>\n",
              "      <td>NaN</td>\n",
              "      <td>None or Unspecified</td>\n",
              "      <td>NaN</td>\n",
              "      <td>NaN</td>\n",
              "    </tr>\n",
              "    <tr>\n",
              "      <th>Blade_Type</th>\n",
              "      <td>Straight</td>\n",
              "      <td>NaN</td>\n",
              "      <td>Angle</td>\n",
              "      <td>NaN</td>\n",
              "      <td>NaN</td>\n",
              "    </tr>\n",
              "    <tr>\n",
              "      <th>Travel_Controls</th>\n",
              "      <td>None or Unspecified</td>\n",
              "      <td>NaN</td>\n",
              "      <td>None or Unspecified</td>\n",
              "      <td>NaN</td>\n",
              "      <td>NaN</td>\n",
              "    </tr>\n",
              "    <tr>\n",
              "      <th>Differential_Type</th>\n",
              "      <td>NaN</td>\n",
              "      <td>NaN</td>\n",
              "      <td>NaN</td>\n",
              "      <td>Standard</td>\n",
              "      <td>NaN</td>\n",
              "    </tr>\n",
              "    <tr>\n",
              "      <th>Steering_Controls</th>\n",
              "      <td>NaN</td>\n",
              "      <td>NaN</td>\n",
              "      <td>NaN</td>\n",
              "      <td>Conventional</td>\n",
              "      <td>NaN</td>\n",
              "    </tr>\n",
              "    <tr>\n",
              "      <th>saleYear</th>\n",
              "      <td>1989</td>\n",
              "      <td>1989</td>\n",
              "      <td>1989</td>\n",
              "      <td>1989</td>\n",
              "      <td>1989</td>\n",
              "    </tr>\n",
              "    <tr>\n",
              "      <th>saleMonth</th>\n",
              "      <td>1</td>\n",
              "      <td>1</td>\n",
              "      <td>1</td>\n",
              "      <td>1</td>\n",
              "      <td>1</td>\n",
              "    </tr>\n",
              "    <tr>\n",
              "      <th>saleDay</th>\n",
              "      <td>17</td>\n",
              "      <td>31</td>\n",
              "      <td>31</td>\n",
              "      <td>31</td>\n",
              "      <td>31</td>\n",
              "    </tr>\n",
              "    <tr>\n",
              "      <th>saleDayOfWeek</th>\n",
              "      <td>1</td>\n",
              "      <td>1</td>\n",
              "      <td>1</td>\n",
              "      <td>1</td>\n",
              "      <td>1</td>\n",
              "    </tr>\n",
              "    <tr>\n",
              "      <th>saleDayOfYear</th>\n",
              "      <td>17</td>\n",
              "      <td>31</td>\n",
              "      <td>31</td>\n",
              "      <td>31</td>\n",
              "      <td>31</td>\n",
              "    </tr>\n",
              "  </tbody>\n",
              "</table>\n",
              "</div>"
            ],
            "text/plain": [
              "                                                                     205615  ...                                             92301 \n",
              "SalesID                                                             1646770  ...                                            1403418\n",
              "SalePrice                                                              9500  ...                                              24000\n",
              "MachineID                                                           1126363  ...                                            1390168\n",
              "ModelID                                                                8434  ...                                               7110\n",
              "datasource                                                              132  ...                                                132\n",
              "auctioneerID                                                             18  ...                                                 99\n",
              "YearMade                                                               1974  ...                                               1986\n",
              "MachineHoursCurrentMeter                                                NaN  ...                                                NaN\n",
              "UsageBand                                                               NaN  ...                                                NaN\n",
              "fiModelDesc                                                            TD20  ...                                                416\n",
              "fiBaseModel                                                            TD20  ...                                                416\n",
              "fiSecondaryDesc                                                         NaN  ...                                                NaN\n",
              "fiModelSeries                                                           NaN  ...                                                NaN\n",
              "fiModelDescriptor                                                       NaN  ...                                                NaN\n",
              "ProductSize                                                          Medium  ...                                                NaN\n",
              "fiProductClassDesc        Track Type Tractor, Dozer - 105.0 to 130.0 Hor...  ...  Backhoe Loader - 14.0 to 15.0 Ft Standard Digg...\n",
              "state                                                                 Texas  ...                                            Florida\n",
              "ProductGroup                                                            TTT  ...                                                 BL\n",
              "ProductGroupDesc                                        Track Type Tractors  ...                                    Backhoe Loaders\n",
              "Drive_System                                                            NaN  ...                                    Two Wheel Drive\n",
              "Enclosure                                                             OROPS  ...                                              EROPS\n",
              "Forks                                                                   NaN  ...                                None or Unspecified\n",
              "Pad_Type                                                                NaN  ...                                None or Unspecified\n",
              "Ride_Control                                                            NaN  ...                                                 No\n",
              "Stick                                                                   NaN  ...                                           Extended\n",
              "Transmission                                                   Direct Drive  ...                                           Standard\n",
              "Turbocharged                                                            NaN  ...                                None or Unspecified\n",
              "Blade_Extension                                                         NaN  ...                                                NaN\n",
              "Blade_Width                                                             NaN  ...                                                NaN\n",
              "Enclosure_Type                                                          NaN  ...                                                NaN\n",
              "Engine_Horsepower                                                       NaN  ...                                                NaN\n",
              "Hydraulics                                                          2 Valve  ...                                                NaN\n",
              "Pushblock                                                               NaN  ...                                                NaN\n",
              "Ripper                                                  None or Unspecified  ...                                                NaN\n",
              "Scarifier                                                               NaN  ...                                                NaN\n",
              "Tip_Control                                                             NaN  ...                                                NaN\n",
              "Tire_Size                                                               NaN  ...                                                NaN\n",
              "Coupler                                                                 NaN  ...                                                NaN\n",
              "Coupler_System                                                          NaN  ...                                                NaN\n",
              "Grouser_Tracks                                                          NaN  ...                                                NaN\n",
              "Hydraulics_Flow                                                         NaN  ...                                                NaN\n",
              "Track_Type                                                              NaN  ...                                                NaN\n",
              "Undercarriage_Pad_Width                                                 NaN  ...                                                NaN\n",
              "Stick_Length                                                            NaN  ...                                                NaN\n",
              "Thumb                                                                   NaN  ...                                                NaN\n",
              "Pattern_Changer                                                         NaN  ...                                                NaN\n",
              "Grouser_Type                                                            NaN  ...                                                NaN\n",
              "Backhoe_Mounting                                        None or Unspecified  ...                                                NaN\n",
              "Blade_Type                                                         Straight  ...                                                NaN\n",
              "Travel_Controls                                         None or Unspecified  ...                                                NaN\n",
              "Differential_Type                                                       NaN  ...                                                NaN\n",
              "Steering_Controls                                                       NaN  ...                                                NaN\n",
              "saleYear                                                               1989  ...                                               1989\n",
              "saleMonth                                                                 1  ...                                                  1\n",
              "saleDay                                                                  17  ...                                                 31\n",
              "saleDayOfWeek                                                             1  ...                                                  1\n",
              "saleDayOfYear                                                            17  ...                                                 31\n",
              "\n",
              "[57 rows x 5 columns]"
            ]
          },
          "metadata": {
            "tags": []
          },
          "execution_count": 16
        }
      ]
    },
    {
      "cell_type": "markdown",
      "metadata": {
        "id": "HMT09nxt_ECx"
      },
      "source": [
        "## Turn all the string values into categorical values"
      ]
    },
    {
      "cell_type": "code",
      "metadata": {
        "colab": {
          "base_uri": "https://localhost:8080/"
        },
        "id": "jLaxeopL_Lj6",
        "outputId": "c5dd3438-9085-4659-8642-52023150e8c3"
      },
      "source": [
        "# Finding the columns with strings\n",
        "for label, content in df.items():\n",
        "  if pd.api.types.is_string_dtype(content):\n",
        "    print(label)"
      ],
      "execution_count": null,
      "outputs": [
        {
          "output_type": "stream",
          "text": [
            "UsageBand\n",
            "fiModelDesc\n",
            "fiBaseModel\n",
            "fiSecondaryDesc\n",
            "fiModelSeries\n",
            "fiModelDescriptor\n",
            "ProductSize\n",
            "fiProductClassDesc\n",
            "state\n",
            "ProductGroup\n",
            "ProductGroupDesc\n",
            "Drive_System\n",
            "Enclosure\n",
            "Forks\n",
            "Pad_Type\n",
            "Ride_Control\n",
            "Stick\n",
            "Transmission\n",
            "Turbocharged\n",
            "Blade_Extension\n",
            "Blade_Width\n",
            "Enclosure_Type\n",
            "Engine_Horsepower\n",
            "Hydraulics\n",
            "Pushblock\n",
            "Ripper\n",
            "Scarifier\n",
            "Tip_Control\n",
            "Tire_Size\n",
            "Coupler\n",
            "Coupler_System\n",
            "Grouser_Tracks\n",
            "Hydraulics_Flow\n",
            "Track_Type\n",
            "Undercarriage_Pad_Width\n",
            "Stick_Length\n",
            "Thumb\n",
            "Pattern_Changer\n",
            "Grouser_Type\n",
            "Backhoe_Mounting\n",
            "Blade_Type\n",
            "Travel_Controls\n",
            "Differential_Type\n",
            "Steering_Controls\n"
          ],
          "name": "stdout"
        }
      ]
    },
    {
      "cell_type": "code",
      "metadata": {
        "id": "INMt3DQx_U3l"
      },
      "source": [
        "# Turn all string values into categorical values\n",
        "for label, content in df.items():\n",
        "  if pd.api.types.is_string_dtype(content):\n",
        "    df[label] = content.astype(\"category\").cat.as_ordered()"
      ],
      "execution_count": null,
      "outputs": []
    },
    {
      "cell_type": "markdown",
      "metadata": {
        "id": "LfTda_Fr_k5f"
      },
      "source": [
        "## Filling the missing values"
      ]
    },
    {
      "cell_type": "code",
      "metadata": {
        "id": "kbd66x78_sjh"
      },
      "source": [
        "# Fill the numeric columns with median values\n",
        "for label, content in df.items():\n",
        "  if pd.api.types.is_numeric_dtype(content):\n",
        "    if pd.isnull(content).sum():\n",
        "      # add a binary column, if the original column was missing\n",
        "      df[label + \"_is_missing\"] = pd.isnull(content)\n",
        "      # fill missing numeric values with median\n",
        "      df[label] = content.fillna(content.median())"
      ],
      "execution_count": null,
      "outputs": []
    },
    {
      "cell_type": "code",
      "metadata": {
        "id": "7Hd3YfltAGwK"
      },
      "source": [
        "# Turn categorical variables into numbers\n",
        "\n",
        "for label, content in df.items():\n",
        "  if not pd.api.types.is_numeric_dtype(content):\n",
        "    df[label + \"_is_missing\"] = pd.isnull(content)\n",
        "    df[label] = pd.Categorical(content).codes + 1"
      ],
      "execution_count": null,
      "outputs": []
    },
    {
      "cell_type": "code",
      "metadata": {
        "colab": {
          "base_uri": "https://localhost:8080/"
        },
        "id": "3acN_05bECjq",
        "outputId": "7a3f28fc-99b5-4d27-b89e-d5abd465f24c"
      },
      "source": [
        "df.isnull().sum()"
      ],
      "execution_count": null,
      "outputs": [
        {
          "output_type": "execute_result",
          "data": {
            "text/plain": [
              "SalesID                         0\n",
              "SalePrice                       0\n",
              "MachineID                       0\n",
              "ModelID                         0\n",
              "datasource                      0\n",
              "                               ..\n",
              "Backhoe_Mounting_is_missing     0\n",
              "Blade_Type_is_missing           0\n",
              "Travel_Controls_is_missing      0\n",
              "Differential_Type_is_missing    0\n",
              "Steering_Controls_is_missing    0\n",
              "Length: 103, dtype: int64"
            ]
          },
          "metadata": {
            "tags": []
          },
          "execution_count": 21
        }
      ]
    },
    {
      "cell_type": "markdown",
      "metadata": {
        "id": "-gDTN5OLEEa2"
      },
      "source": [
        "## Modelling the data"
      ]
    },
    {
      "cell_type": "code",
      "metadata": {
        "colab": {
          "base_uri": "https://localhost:8080/"
        },
        "id": "UFTUDFx1K4-A",
        "outputId": "74176b05-0efc-42cf-eeed-0c12414f62b9"
      },
      "source": [
        "# Split the data into training and validation set\n",
        "df_val = df[df.saleYear == 2012]\n",
        "df_train = df[df.saleYear != 2012]\n",
        "\n",
        "len(df_val), len(df_train)"
      ],
      "execution_count": null,
      "outputs": [
        {
          "output_type": "execute_result",
          "data": {
            "text/plain": [
              "(11573, 401125)"
            ]
          },
          "metadata": {
            "tags": []
          },
          "execution_count": 23
        }
      ]
    },
    {
      "cell_type": "code",
      "metadata": {
        "colab": {
          "base_uri": "https://localhost:8080/"
        },
        "id": "ABJFHj63LF-n",
        "outputId": "c0de97e2-c1b7-4f4f-e8b1-943125ed599b"
      },
      "source": [
        "# Split the data into x and y\n",
        "df_train_xtrain = df_train.drop(\"SalePrice\", axis = 1)\n",
        "df_train_ytrain = df_train[\"SalePrice\"]\n",
        "\n",
        "df_val_xtrain = df_val.drop(\"SalePrice\", axis = 1)\n",
        "df_val_ytrain = df_val[\"SalePrice\"]\n",
        "\n",
        "df_train_xtrain.shape, df_train_ytrain.shape, df_val_xtrain.shape, df_val_ytrain.shape"
      ],
      "execution_count": null,
      "outputs": [
        {
          "output_type": "execute_result",
          "data": {
            "text/plain": [
              "((401125, 102), (401125,), (11573, 102), (11573,))"
            ]
          },
          "metadata": {
            "tags": []
          },
          "execution_count": 25
        }
      ]
    },
    {
      "cell_type": "markdown",
      "metadata": {
        "id": "kYyjoCLCLdNa"
      },
      "source": [
        "### Building the evaluation function"
      ]
    },
    {
      "cell_type": "code",
      "metadata": {
        "id": "zCw6gnDPLqTK"
      },
      "source": [
        "from sklearn.metrics import mean_squared_log_error, mean_absolute_error, r2_score\n",
        "\n",
        "def rmsle(ytest, ypred):\n",
        "  \"\"\"\n",
        "  Calculates root mean squared log error between predicted and actual value\n",
        "  \"\"\"\n",
        "\n",
        "  return np.sqrt(mean_squared_log_error(ytest, ypred))\n",
        "\n",
        "# Create function to evaluate model to a few different parameters\n",
        "def show_scores(model):\n",
        "  train_preds = model.predict(df_train_xtrain)\n",
        "  val_preds = model.predict(df_val_xtrain)\n",
        "\n",
        "  scores = {\n",
        "      \"Training MAE\" : mean_absolute_error(df_train_ytrain, train_preds),\n",
        "      \"Valid MAE\" : mean_absolute_error(df_val_ytrain, val_preds),\n",
        "      \"Training RMSLE\" : rmsle(df_train_ytrain, train_preds),\n",
        "      \"Valid RMSLE\" : rmsle(df_val_ytrain, val_preds),\n",
        "      \"Training R^2\" : r2_score(df_train_ytrain, train_preds),\n",
        "      \"Valid R^2\" : r2_score(df_val_ytrain, val_preds)\n",
        "  }\n",
        "\n",
        "  return scores"
      ],
      "execution_count": null,
      "outputs": []
    },
    {
      "cell_type": "markdown",
      "metadata": {
        "id": "Mua-2tWIKjWD"
      },
      "source": [
        "### Random Forest Regressor"
      ]
    },
    {
      "cell_type": "code",
      "metadata": {
        "colab": {
          "base_uri": "https://localhost:8080/"
        },
        "id": "gc1t7I7ZKmM0",
        "outputId": "88118513-8a3b-4167-de6d-f4ba2621c929"
      },
      "source": [
        "# Testing our model on a subset\n",
        "\n",
        "%%time\n",
        "from sklearn.ensemble import RandomForestRegressor\n",
        "\n",
        "model = RandomForestRegressor(n_jobs = -1,\n",
        "                              random_state = 22,\n",
        "                              max_samples = 10000)"
      ],
      "execution_count": null,
      "outputs": [
        {
          "output_type": "stream",
          "text": [
            "CPU times: user 151 µs, sys: 0 ns, total: 151 µs\n",
            "Wall time: 159 µs\n"
          ],
          "name": "stdout"
        }
      ]
    },
    {
      "cell_type": "code",
      "metadata": {
        "colab": {
          "base_uri": "https://localhost:8080/"
        },
        "id": "YywisT5yN_rh",
        "outputId": "7c256a82-5a1f-465d-8570-75da4ebba3e5"
      },
      "source": [
        "%%time\n",
        "model.fit(df_train_xtrain, df_train_ytrain)"
      ],
      "execution_count": null,
      "outputs": [
        {
          "output_type": "stream",
          "text": [
            "CPU times: user 55.5 s, sys: 581 ms, total: 56.1 s\n",
            "Wall time: 30.1 s\n"
          ],
          "name": "stdout"
        },
        {
          "output_type": "execute_result",
          "data": {
            "text/plain": [
              "RandomForestRegressor(bootstrap=True, ccp_alpha=0.0, criterion='mse',\n",
              "                      max_depth=None, max_features='auto', max_leaf_nodes=None,\n",
              "                      max_samples=10000, min_impurity_decrease=0.0,\n",
              "                      min_impurity_split=None, min_samples_leaf=1,\n",
              "                      min_samples_split=2, min_weight_fraction_leaf=0.0,\n",
              "                      n_estimators=100, n_jobs=-1, oob_score=False,\n",
              "                      random_state=22, verbose=0, warm_start=False)"
            ]
          },
          "metadata": {
            "tags": []
          },
          "execution_count": 29
        }
      ]
    },
    {
      "cell_type": "code",
      "metadata": {
        "colab": {
          "base_uri": "https://localhost:8080/"
        },
        "id": "qvWxyqzoOEg_",
        "outputId": "1d06c574-c96f-4061-dcd9-7f5390992d1f"
      },
      "source": [
        "show_scores(model)"
      ],
      "execution_count": null,
      "outputs": [
        {
          "output_type": "execute_result",
          "data": {
            "text/plain": [
              "{'Training MAE': 5563.996432608288,\n",
              " 'Training RMSLE': 0.2578246143214639,\n",
              " 'Training R^2': 0.8605518439976871,\n",
              " 'Valid MAE': 7190.465061781733,\n",
              " 'Valid RMSLE': 0.29415314473578635,\n",
              " 'Valid R^2': 0.8311867537277982}"
            ]
          },
          "metadata": {
            "tags": []
          },
          "execution_count": 32
        }
      ]
    },
    {
      "cell_type": "code",
      "metadata": {
        "colab": {
          "base_uri": "https://localhost:8080/"
        },
        "id": "AdBaBvTZONl_",
        "outputId": "e979797f-947e-4797-937f-74cd8c78a195"
      },
      "source": [
        "%%time\n",
        "\n",
        "# Hyperparameter tuning with Randomized search CV\n",
        "from sklearn.model_selection import RandomizedSearchCV\n",
        "\n",
        "rf_grid = {\n",
        "    \"n_estimators\" : np.arange(10, 100, 10),\n",
        "    \"max_depth\" : [None, 3, 5, 10],\n",
        "    \"min_samples_split\" : np.arange(2, 20, 2),\n",
        "    \"min_samples_leaf\" : np.arange(1, 20, 2),\n",
        "    \"max_features\" : [0.5, 1, \"sqrt\", \"auto\"],\n",
        "    \"max_samples\" : [10000]\n",
        "}\n",
        "\n",
        "rs_model = RandomizedSearchCV(RandomForestRegressor(n_jobs= -1,\n",
        "                                                    random_state = 22),\n",
        "                              param_distributions = rf_grid,\n",
        "                              n_iter = 100,\n",
        "                              cv = 5,\n",
        "                              verbose = True)\n",
        "\n",
        "rs_model.fit(df_train_xtrain, df_train_ytrain)"
      ],
      "execution_count": null,
      "outputs": [
        {
          "output_type": "stream",
          "text": [
            "Fitting 5 folds for each of 100 candidates, totalling 500 fits\n"
          ],
          "name": "stdout"
        },
        {
          "output_type": "stream",
          "text": [
            "[Parallel(n_jobs=1)]: Using backend SequentialBackend with 1 concurrent workers.\n",
            "[Parallel(n_jobs=1)]: Done 500 out of 500 | elapsed: 47.1min finished\n"
          ],
          "name": "stderr"
        },
        {
          "output_type": "stream",
          "text": [
            "CPU times: user 22min 52s, sys: 55.3 s, total: 23min 48s\n",
            "Wall time: 47min 13s\n"
          ],
          "name": "stdout"
        }
      ]
    },
    {
      "cell_type": "code",
      "metadata": {
        "colab": {
          "base_uri": "https://localhost:8080/"
        },
        "id": "puBe_TqyPlSr",
        "outputId": "77e89f1b-976c-4f64-f69d-b86e804bc629"
      },
      "source": [
        "# Find the best model hyperparameters\n",
        "rs_model.best_params_"
      ],
      "execution_count": null,
      "outputs": [
        {
          "output_type": "execute_result",
          "data": {
            "text/plain": [
              "{'max_depth': None,\n",
              " 'max_features': 'auto',\n",
              " 'max_samples': 10000,\n",
              " 'min_samples_leaf': 7,\n",
              " 'min_samples_split': 4,\n",
              " 'n_estimators': 20}"
            ]
          },
          "metadata": {
            "tags": []
          },
          "execution_count": 43
        }
      ]
    },
    {
      "cell_type": "code",
      "metadata": {
        "colab": {
          "base_uri": "https://localhost:8080/"
        },
        "id": "4PpI7JdFiBoq",
        "outputId": "b3bacb24-bb4d-43dd-d59a-62c8284ab1ef"
      },
      "source": [
        "# Evaluate the model\n",
        "show_scores(rs_model)"
      ],
      "execution_count": null,
      "outputs": [
        {
          "output_type": "execute_result",
          "data": {
            "text/plain": [
              "{'Training MAE': 6025.194166599246,\n",
              " 'Training RMSLE': 0.27382705546825375,\n",
              " 'Training R^2': 0.8349148211998914,\n",
              " 'Valid MAE': 7587.669475513135,\n",
              " 'Valid RMSLE': 0.3045185171696474,\n",
              " 'Valid R^2': 0.8062654796854178}"
            ]
          },
          "metadata": {
            "tags": []
          },
          "execution_count": 44
        }
      ]
    },
    {
      "cell_type": "code",
      "metadata": {
        "colab": {
          "base_uri": "https://localhost:8080/"
        },
        "id": "DTkCS6j4ix79",
        "outputId": "fe72003e-1a9f-4c5c-8bac-2e286f4974a3"
      },
      "source": [
        "%%time\n",
        "# If we increase the n_iter, we will find better hyperparameters\n",
        "# Train the models with the best hyperparameters\n",
        "\n",
        "ideal_model = RandomForestRegressor(n_estimators = 40,\n",
        "                                   min_samples_leaf = 1,\n",
        "                                   min_samples_split = 14,\n",
        "                                   max_features=0.5,\n",
        "                                   n_jobs = -1,\n",
        "                                   max_samples=None,\n",
        "                                   random_state = 22)\n",
        "\n",
        "ideal_model.fit(df_train_xtrain, df_train_ytrain)"
      ],
      "execution_count": null,
      "outputs": [
        {
          "output_type": "stream",
          "text": [
            "CPU times: user 4min 51s, sys: 253 ms, total: 4min 51s\n",
            "Wall time: 2min 30s\n"
          ],
          "name": "stdout"
        }
      ]
    },
    {
      "cell_type": "code",
      "metadata": {
        "colab": {
          "base_uri": "https://localhost:8080/"
        },
        "id": "4HCne5sDi5sY",
        "outputId": "27167d43-371d-4c62-cf98-5c3a18e25e56"
      },
      "source": [
        "show_scores(ideal_model)"
      ],
      "execution_count": null,
      "outputs": [
        {
          "output_type": "execute_result",
          "data": {
            "text/plain": [
              "{'Training MAE': 2953.0385694578135,\n",
              " 'Training RMSLE': 0.14447423239513543,\n",
              " 'Training R^2': 0.9589518621135927,\n",
              " 'Valid MAE': 5959.775578442485,\n",
              " 'Valid RMSLE': 0.2457856399234902,\n",
              " 'Valid R^2': 0.8809832201728538}"
            ]
          },
          "metadata": {
            "tags": []
          },
          "execution_count": 41
        }
      ]
    },
    {
      "cell_type": "code",
      "metadata": {
        "colab": {
          "base_uri": "https://localhost:8080/"
        },
        "id": "JVGQulWTi7G9",
        "outputId": "e0c974c1-896e-497e-d1a3-dd8d00c759b4"
      },
      "source": [
        "import joblib\n",
        "joblib.dump(rs_model, \"rs_model.pkl\")\n",
        "joblib.dump(ideal_model, \"ideal_model.pkl\")"
      ],
      "execution_count": null,
      "outputs": [
        {
          "output_type": "execute_result",
          "data": {
            "text/plain": [
              "['ideal_model.pkl']"
            ]
          },
          "metadata": {
            "tags": []
          },
          "execution_count": 46
        }
      ]
    },
    {
      "cell_type": "code",
      "metadata": {
        "id": "ULIgqUgyyUG_"
      },
      "source": [
        ""
      ],
      "execution_count": null,
      "outputs": []
    }
  ]
}